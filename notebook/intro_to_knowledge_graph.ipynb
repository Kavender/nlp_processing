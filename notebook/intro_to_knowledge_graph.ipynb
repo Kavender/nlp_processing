{
 "cells": [
  {
   "cell_type": "markdown",
   "metadata": {},
   "source": [
    "#### Chapter 1. Basic graph data as prerequisite"
   ]
  },
  {
   "cell_type": "markdown",
   "metadata": {
    "ExecuteTime": {
     "end_time": "2019-11-17T16:15:46.190994Z",
     "start_time": "2019-11-17T16:15:46.145430Z"
    }
   },
   "source": [
    "● Reasoning\n",
    "\n",
    "● Semantic search\n",
    "\n",
    "● Natural language search\n",
    "\n",
    "Semantic web techniques create and maintain indices which can be managed and utilised across diverse data sources. This makes it much easier to search, discover and link information. "
   ]
  },
  {
   "cell_type": "markdown",
   "metadata": {},
   "source": [
    "##### Section 2.1 Benefit of graph representation for relation data"
   ]
  },
  {
   "cell_type": "markdown",
   "metadata": {},
   "source": [
    "#### Chapter 2. Dbpedia (linked data representation of Wikipedia)"
   ]
  },
  {
   "cell_type": "code",
   "execution_count": null,
   "metadata": {},
   "outputs": [],
   "source": [
    "\"\"\"\n",
    "linked data type\n",
    "triples: (<subject> <predicate> <object>) \n",
    "directed knowledge graph.\n",
    "Entities are represented by URIs\n",
    "\n",
    "Objects can hold information (constant values) about their subjects and these are called Literals.\n",
    "Plain literals are strings that can optionally have attached tags (such as a language tag)\n",
    "Typed literals have attached datatypes (such as a number having the attached integer datatype)\n",
    "\"\"\""
   ]
  },
  {
   "cell_type": "code",
   "execution_count": 2,
   "metadata": {
    "ExecuteTime": {
     "end_time": "2020-09-22T18:41:56.202560Z",
     "start_time": "2020-09-22T18:41:56.200150Z"
    }
   },
   "outputs": [],
   "source": [
    "#!pip install nb_pdf_template"
   ]
  },
  {
   "cell_type": "code",
   "execution_count": 11,
   "metadata": {
    "ExecuteTime": {
     "end_time": "2020-09-22T18:51:49.823789Z",
     "start_time": "2020-09-22T18:51:42.395352Z"
    }
   },
   "outputs": [
    {
     "name": "stdout",
     "output_type": "stream",
     "text": [
      "[NbConvertApp] Converting notebook intro_to_knowledge_graph.ipynb to pdf\n",
      "[NbConvertApp] Writing 26268 bytes to ./notebook.tex\n",
      "[NbConvertApp] Building PDF\n",
      "[NbConvertApp] Running xelatex 3 times: ['xelatex', './notebook.tex', '-quiet']\n",
      "[NbConvertApp] Running bibtex 1 time: ['bibtex', './notebook']\n",
      "[NbConvertApp] WARNING | bibtex had problems, most likely because there were no citations\n",
      "[NbConvertApp] PDF successfully created\n",
      "[NbConvertApp] Writing 31266 bytes to intro_to_knowledge_graph.pdf\n"
     ]
    }
   ],
   "source": [
    "!jupyter nbconvert --to pdf intro_to_knowledge_graph.ipynb"
   ]
  },
  {
   "cell_type": "code",
   "execution_count": null,
   "metadata": {},
   "outputs": [],
   "source": []
  }
 ],
 "metadata": {
  "kernelspec": {
   "display_name": "bert_experiment",
   "language": "python",
   "name": "bert_experiment"
  },
  "language_info": {
   "codemirror_mode": {
    "name": "ipython",
    "version": 3
   },
   "file_extension": ".py",
   "mimetype": "text/x-python",
   "name": "python",
   "nbconvert_exporter": "python",
   "pygments_lexer": "ipython3",
   "version": "3.7.4"
  },
  "toc": {
   "base_numbering": 1,
   "nav_menu": {},
   "number_sections": true,
   "sideBar": true,
   "skip_h1_title": false,
   "title_cell": "Table of Contents",
   "title_sidebar": "Contents",
   "toc_cell": false,
   "toc_position": {},
   "toc_section_display": true,
   "toc_window_display": false
  }
 },
 "nbformat": 4,
 "nbformat_minor": 2
}
